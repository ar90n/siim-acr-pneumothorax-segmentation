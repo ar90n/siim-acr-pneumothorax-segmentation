{
 "cells": [
  {
   "cell_type": "code",
   "execution_count": 19,
   "metadata": {
    "lines_to_next_cell": 0
   },
   "outputs": [],
   "source": [
    "import datetime"
   ]
  },
  {
   "cell_type": "code",
   "execution_count": 20,
   "metadata": {
    "lines_to_next_cell": 0
   },
   "outputs": [],
   "source": [
    "import math\n",
    "import os\n",
    "import time"
   ]
  },
  {
   "cell_type": "code",
   "execution_count": 21,
   "metadata": {
    "lines_to_next_cell": 0
   },
   "outputs": [],
   "source": [
    "from collections import deque\n",
    "from collections.abc import Iterable\n",
    "from pathlib import Path\n",
    "\n",
    "import matplotlib.pyplot as plt\n",
    "import numpy as np"
   ]
  },
  {
   "cell_type": "code",
   "execution_count": 22,
   "metadata": {
    "lines_to_next_cell": 0
   },
   "outputs": [],
   "source": [
    "import torch\n",
    "from torch import nn, optim\n",
    "from torch.autograd import Variable\n",
    "from torch.utils import data\n",
    "\n",
    "import yolact"
   ]
  },
  {
   "cell_type": "code",
   "execution_count": 23,
   "metadata": {},
   "outputs": [],
   "source": [
    "from siim import bootstrap, io\n",
    "from siim.config import cfg\n",
    "from siim.resource import WEIGHTS_DIR_PATH, ScatterWrapper, TrainDataset\n",
    "from yolact.data import detection_collate\n",
    "from yolact.utils.augmentations import BaseTransform, SSDAugmentation\n",
    "from yolact.utils.functions import MovingAverage, SavePath"
   ]
  },
  {
   "cell_type": "code",
   "execution_count": 24,
   "metadata": {
    "lines_to_next_cell": 1
   },
   "outputs": [],
   "source": [
    "def prepare_data(datum, device=torch.device('cpu')):\n",
    "    images, (targets, masks, num_crowds) = datum\n",
    "    images = Variable(images.to(device), requires_grad=False)\n",
    "    targets = [Variable(ann.to(device), requires_grad=False)\n",
    "               for ann in targets]\n",
    "    masks = [Variable(mask.to(device), requires_grad=False) for mask in masks]\n",
    "\n",
    "    return images, targets, masks, num_crowds"
   ]
  },
  {
   "cell_type": "code",
   "execution_count": 25,
   "metadata": {},
   "outputs": [],
   "source": [
    "def set_lr(optimizer, new_lr):\n",
    "    for param_group in optimizer.param_groups:\n",
    "        param_group['lr'] = new_lr"
   ]
  },
  {
   "cell_type": "code",
   "execution_count": 26,
   "metadata": {},
   "outputs": [],
   "source": [
    "bootstrap()"
   ]
  },
  {
   "cell_type": "code",
   "execution_count": 27,
   "metadata": {
    "lines_to_next_cell": 0
   },
   "outputs": [],
   "source": [
    "dataset = TrainDataset(transform=SSDAugmentation(), empty_mask_is_negative=True)\n",
    "n_samples = len(dataset) # n_samples is 60000\n",
    "train_size = int(n_samples * 0.8) # train_size is 48000\n",
    "val_size = n_samples - train_size # val_size is 48000\n",
    "train_dataset, val_dataset = torch.utils.data.random_split(dataset, [train_size, val_size])"
   ]
  },
  {
   "cell_type": "code",
   "execution_count": 8,
   "metadata": {},
   "outputs": [
    {
     "ename": "TypeError",
     "evalue": "Invalid shape (1, 550, 550) for image data",
     "output_type": "error",
     "traceback": [
      "\u001b[0;31m---------------------------------------------------------------------------\u001b[0m",
      "\u001b[0;31mTypeError\u001b[0m                                 Traceback (most recent call last)",
      "\u001b[0;32m<ipython-input-8-a129df829075>\u001b[0m in \u001b[0;36m<module>\u001b[0;34m\u001b[0m\n\u001b[1;32m      6\u001b[0m \u001b[0;31m#\u001b[0m\u001b[0;34m\u001b[0m\u001b[0;34m\u001b[0m\u001b[0;34m\u001b[0m\u001b[0m\n\u001b[1;32m      7\u001b[0m \u001b[0mplt\u001b[0m\u001b[0;34m.\u001b[0m\u001b[0msubplot\u001b[0m\u001b[0;34m(\u001b[0m\u001b[0;36m1\u001b[0m\u001b[0;34m,\u001b[0m \u001b[0;36m2\u001b[0m\u001b[0;34m,\u001b[0m \u001b[0;36m2\u001b[0m\u001b[0;34m)\u001b[0m\u001b[0;34m\u001b[0m\u001b[0;34m\u001b[0m\u001b[0m\n\u001b[0;32m----> 8\u001b[0;31m \u001b[0mplt\u001b[0m\u001b[0;34m.\u001b[0m\u001b[0mimshow\u001b[0m\u001b[0;34m(\u001b[0m\u001b[0mimg\u001b[0m\u001b[0;34m[\u001b[0m\u001b[0;36m0\u001b[0m\u001b[0;34m]\u001b[0m \u001b[0;34m*\u001b[0m \u001b[0mmask\u001b[0m\u001b[0;34m,\u001b[0m \u001b[0mcmap\u001b[0m\u001b[0;34m=\u001b[0m\u001b[0;34m\"gray\"\u001b[0m\u001b[0;34m)\u001b[0m\u001b[0;34m\u001b[0m\u001b[0;34m\u001b[0m\u001b[0m\n\u001b[0m\u001b[1;32m      9\u001b[0m \u001b[0mplt\u001b[0m\u001b[0;34m.\u001b[0m\u001b[0maxis\u001b[0m\u001b[0;34m(\u001b[0m\u001b[0;34m\"off\"\u001b[0m\u001b[0;34m)\u001b[0m\u001b[0;34m\u001b[0m\u001b[0;34m\u001b[0m\u001b[0m\n",
      "\u001b[0;32m~/.xdg/python_1562867674/pypoetry/virtualenvs/siim-py3.6/lib/python3.6/site-packages/matplotlib/pyplot.py\u001b[0m in \u001b[0;36mimshow\u001b[0;34m(X, cmap, norm, aspect, interpolation, alpha, vmin, vmax, origin, extent, shape, filternorm, filterrad, imlim, resample, url, data, **kwargs)\u001b[0m\n\u001b[1;32m   2681\u001b[0m         \u001b[0mfilternorm\u001b[0m\u001b[0;34m=\u001b[0m\u001b[0mfilternorm\u001b[0m\u001b[0;34m,\u001b[0m \u001b[0mfilterrad\u001b[0m\u001b[0;34m=\u001b[0m\u001b[0mfilterrad\u001b[0m\u001b[0;34m,\u001b[0m \u001b[0mimlim\u001b[0m\u001b[0;34m=\u001b[0m\u001b[0mimlim\u001b[0m\u001b[0;34m,\u001b[0m\u001b[0;34m\u001b[0m\u001b[0;34m\u001b[0m\u001b[0m\n\u001b[1;32m   2682\u001b[0m         resample=resample, url=url, **({\"data\": data} if data is not\n\u001b[0;32m-> 2683\u001b[0;31m         None else {}), **kwargs)\n\u001b[0m\u001b[1;32m   2684\u001b[0m     \u001b[0msci\u001b[0m\u001b[0;34m(\u001b[0m\u001b[0m__ret\u001b[0m\u001b[0;34m)\u001b[0m\u001b[0;34m\u001b[0m\u001b[0;34m\u001b[0m\u001b[0m\n\u001b[1;32m   2685\u001b[0m     \u001b[0;32mreturn\u001b[0m \u001b[0m__ret\u001b[0m\u001b[0;34m\u001b[0m\u001b[0;34m\u001b[0m\u001b[0m\n",
      "\u001b[0;32m~/.xdg/python_1562867674/pypoetry/virtualenvs/siim-py3.6/lib/python3.6/site-packages/matplotlib/__init__.py\u001b[0m in \u001b[0;36minner\u001b[0;34m(ax, data, *args, **kwargs)\u001b[0m\n\u001b[1;32m   1599\u001b[0m     \u001b[0;32mdef\u001b[0m \u001b[0minner\u001b[0m\u001b[0;34m(\u001b[0m\u001b[0max\u001b[0m\u001b[0;34m,\u001b[0m \u001b[0;34m*\u001b[0m\u001b[0margs\u001b[0m\u001b[0;34m,\u001b[0m \u001b[0mdata\u001b[0m\u001b[0;34m=\u001b[0m\u001b[0;32mNone\u001b[0m\u001b[0;34m,\u001b[0m \u001b[0;34m**\u001b[0m\u001b[0mkwargs\u001b[0m\u001b[0;34m)\u001b[0m\u001b[0;34m:\u001b[0m\u001b[0;34m\u001b[0m\u001b[0;34m\u001b[0m\u001b[0m\n\u001b[1;32m   1600\u001b[0m         \u001b[0;32mif\u001b[0m \u001b[0mdata\u001b[0m \u001b[0;32mis\u001b[0m \u001b[0;32mNone\u001b[0m\u001b[0;34m:\u001b[0m\u001b[0;34m\u001b[0m\u001b[0;34m\u001b[0m\u001b[0m\n\u001b[0;32m-> 1601\u001b[0;31m             \u001b[0;32mreturn\u001b[0m \u001b[0mfunc\u001b[0m\u001b[0;34m(\u001b[0m\u001b[0max\u001b[0m\u001b[0;34m,\u001b[0m \u001b[0;34m*\u001b[0m\u001b[0mmap\u001b[0m\u001b[0;34m(\u001b[0m\u001b[0msanitize_sequence\u001b[0m\u001b[0;34m,\u001b[0m \u001b[0margs\u001b[0m\u001b[0;34m)\u001b[0m\u001b[0;34m,\u001b[0m \u001b[0;34m**\u001b[0m\u001b[0mkwargs\u001b[0m\u001b[0;34m)\u001b[0m\u001b[0;34m\u001b[0m\u001b[0;34m\u001b[0m\u001b[0m\n\u001b[0m\u001b[1;32m   1602\u001b[0m \u001b[0;34m\u001b[0m\u001b[0m\n\u001b[1;32m   1603\u001b[0m         \u001b[0mbound\u001b[0m \u001b[0;34m=\u001b[0m \u001b[0mnew_sig\u001b[0m\u001b[0;34m.\u001b[0m\u001b[0mbind\u001b[0m\u001b[0;34m(\u001b[0m\u001b[0max\u001b[0m\u001b[0;34m,\u001b[0m \u001b[0;34m*\u001b[0m\u001b[0margs\u001b[0m\u001b[0;34m,\u001b[0m \u001b[0;34m**\u001b[0m\u001b[0mkwargs\u001b[0m\u001b[0;34m)\u001b[0m\u001b[0;34m\u001b[0m\u001b[0;34m\u001b[0m\u001b[0m\n",
      "\u001b[0;32m~/.xdg/python_1562867674/pypoetry/virtualenvs/siim-py3.6/lib/python3.6/site-packages/matplotlib/cbook/deprecation.py\u001b[0m in \u001b[0;36mwrapper\u001b[0;34m(*args, **kwargs)\u001b[0m\n\u001b[1;32m    367\u001b[0m                 \u001b[0;34mf\"%(removal)s.  If any parameter follows {name!r}, they \"\u001b[0m\u001b[0;34m\u001b[0m\u001b[0;34m\u001b[0m\u001b[0m\n\u001b[1;32m    368\u001b[0m                 f\"should be pass as keyword, not positionally.\")\n\u001b[0;32m--> 369\u001b[0;31m         \u001b[0;32mreturn\u001b[0m \u001b[0mfunc\u001b[0m\u001b[0;34m(\u001b[0m\u001b[0;34m*\u001b[0m\u001b[0margs\u001b[0m\u001b[0;34m,\u001b[0m \u001b[0;34m**\u001b[0m\u001b[0mkwargs\u001b[0m\u001b[0;34m)\u001b[0m\u001b[0;34m\u001b[0m\u001b[0;34m\u001b[0m\u001b[0m\n\u001b[0m\u001b[1;32m    370\u001b[0m \u001b[0;34m\u001b[0m\u001b[0m\n\u001b[1;32m    371\u001b[0m     \u001b[0;32mreturn\u001b[0m \u001b[0mwrapper\u001b[0m\u001b[0;34m\u001b[0m\u001b[0;34m\u001b[0m\u001b[0m\n",
      "\u001b[0;32m~/.xdg/python_1562867674/pypoetry/virtualenvs/siim-py3.6/lib/python3.6/site-packages/matplotlib/cbook/deprecation.py\u001b[0m in \u001b[0;36mwrapper\u001b[0;34m(*args, **kwargs)\u001b[0m\n\u001b[1;32m    367\u001b[0m                 \u001b[0;34mf\"%(removal)s.  If any parameter follows {name!r}, they \"\u001b[0m\u001b[0;34m\u001b[0m\u001b[0;34m\u001b[0m\u001b[0m\n\u001b[1;32m    368\u001b[0m                 f\"should be pass as keyword, not positionally.\")\n\u001b[0;32m--> 369\u001b[0;31m         \u001b[0;32mreturn\u001b[0m \u001b[0mfunc\u001b[0m\u001b[0;34m(\u001b[0m\u001b[0;34m*\u001b[0m\u001b[0margs\u001b[0m\u001b[0;34m,\u001b[0m \u001b[0;34m**\u001b[0m\u001b[0mkwargs\u001b[0m\u001b[0;34m)\u001b[0m\u001b[0;34m\u001b[0m\u001b[0;34m\u001b[0m\u001b[0m\n\u001b[0m\u001b[1;32m    370\u001b[0m \u001b[0;34m\u001b[0m\u001b[0m\n\u001b[1;32m    371\u001b[0m     \u001b[0;32mreturn\u001b[0m \u001b[0mwrapper\u001b[0m\u001b[0;34m\u001b[0m\u001b[0;34m\u001b[0m\u001b[0m\n",
      "\u001b[0;32m~/.xdg/python_1562867674/pypoetry/virtualenvs/siim-py3.6/lib/python3.6/site-packages/matplotlib/axes/_axes.py\u001b[0m in \u001b[0;36mimshow\u001b[0;34m(self, X, cmap, norm, aspect, interpolation, alpha, vmin, vmax, origin, extent, shape, filternorm, filterrad, imlim, resample, url, **kwargs)\u001b[0m\n\u001b[1;32m   5669\u001b[0m                               resample=resample, **kwargs)\n\u001b[1;32m   5670\u001b[0m \u001b[0;34m\u001b[0m\u001b[0m\n\u001b[0;32m-> 5671\u001b[0;31m         \u001b[0mim\u001b[0m\u001b[0;34m.\u001b[0m\u001b[0mset_data\u001b[0m\u001b[0;34m(\u001b[0m\u001b[0mX\u001b[0m\u001b[0;34m)\u001b[0m\u001b[0;34m\u001b[0m\u001b[0;34m\u001b[0m\u001b[0m\n\u001b[0m\u001b[1;32m   5672\u001b[0m         \u001b[0mim\u001b[0m\u001b[0;34m.\u001b[0m\u001b[0mset_alpha\u001b[0m\u001b[0;34m(\u001b[0m\u001b[0malpha\u001b[0m\u001b[0;34m)\u001b[0m\u001b[0;34m\u001b[0m\u001b[0;34m\u001b[0m\u001b[0m\n\u001b[1;32m   5673\u001b[0m         \u001b[0;32mif\u001b[0m \u001b[0mim\u001b[0m\u001b[0;34m.\u001b[0m\u001b[0mget_clip_path\u001b[0m\u001b[0;34m(\u001b[0m\u001b[0;34m)\u001b[0m \u001b[0;32mis\u001b[0m \u001b[0;32mNone\u001b[0m\u001b[0;34m:\u001b[0m\u001b[0;34m\u001b[0m\u001b[0;34m\u001b[0m\u001b[0m\n",
      "\u001b[0;32m~/.xdg/python_1562867674/pypoetry/virtualenvs/siim-py3.6/lib/python3.6/site-packages/matplotlib/image.py\u001b[0m in \u001b[0;36mset_data\u001b[0;34m(self, A)\u001b[0m\n\u001b[1;32m    688\u001b[0m                 or self._A.ndim == 3 and self._A.shape[-1] in [3, 4]):\n\u001b[1;32m    689\u001b[0m             raise TypeError(\"Invalid shape {} for image data\"\n\u001b[0;32m--> 690\u001b[0;31m                             .format(self._A.shape))\n\u001b[0m\u001b[1;32m    691\u001b[0m \u001b[0;34m\u001b[0m\u001b[0m\n\u001b[1;32m    692\u001b[0m         \u001b[0;32mif\u001b[0m \u001b[0mself\u001b[0m\u001b[0;34m.\u001b[0m\u001b[0m_A\u001b[0m\u001b[0;34m.\u001b[0m\u001b[0mndim\u001b[0m \u001b[0;34m==\u001b[0m \u001b[0;36m3\u001b[0m\u001b[0;34m:\u001b[0m\u001b[0;34m\u001b[0m\u001b[0;34m\u001b[0m\u001b[0m\n",
      "\u001b[0;31mTypeError\u001b[0m: Invalid shape (1, 550, 550) for image data"
     ]
    },
    {
     "data": {
      "image/png": "[encoded data removed]",
      "text/plain": [
       "<Figure size 720x720 with 2 Axes>"
      ]
     },
     "metadata": {
      "needs_background": "light"
     },
     "output_type": "display_data"
    }
   ],
   "source": [
    "img, (target, mask, no_crowd) = train_dataset[2900]\n",
    "plt.figure(figsize=(10, 10))\n",
    "plt.subplot(1, 2, 1)\n",
    "plt.imshow(img[0], cmap=\"gray\")\n",
    "plt.axis(\"off\")\n",
    "#\n",
    "plt.subplot(1, 2, 2)\n",
    "plt.imshow(img[0] * mask, cmap=\"gray\")\n",
    "plt.axis(\"off\")"
   ]
  },
  {
   "cell_type": "code",
   "execution_count": 28,
   "metadata": {},
   "outputs": [],
   "source": [
    "net = yolact.yolact.Yolact()\n",
    "net.train()\n",
    "net.init_weights(backbone_path=str(WEIGHTS_DIR_PATH / cfg.backbone.path))"
   ]
  },
  {
   "cell_type": "code",
   "execution_count": 29,
   "metadata": {},
   "outputs": [],
   "source": [
    "data_loader = torch.utils.data.DataLoader(\n",
    "    train_dataset,\n",
    "    batch_size=cfg.batch_size,\n",
    "    num_workers=cfg.num_workers,\n",
    "    shuffle=True,\n",
    "    collate_fn=detection_collate,\n",
    "    pin_memory=True,\n",
    ")\n",
    "\n",
    "optimizer = optim.SGD(\n",
    "    net.parameters(), lr=cfg.lr, momentum=cfg.momentum, weight_decay=cfg.decay\n",
    ")\n",
    "criterion = yolact.layers.MultiBoxLoss(\n",
    "    num_classes=cfg.num_classes,\n",
    "    pos_threshold=cfg.positive_iou_threshold,\n",
    "    neg_threshold=cfg.negative_iou_threshold,\n",
    "    negpos_ratio=3,\n",
    ")"
   ]
  },
  {
   "cell_type": "code",
   "execution_count": 30,
   "metadata": {},
   "outputs": [
    {
     "name": "stdout",
     "output_type": "stream",
     "text": [
      "Begin training!\n"
     ]
    }
   ],
   "source": [
    "save_path = lambda epoch, iteration: SavePath(cfg.name, epoch, iteration).get_path(root=cfg.save_folder)\n",
    "time_avg = MovingAverage()\n",
    "loss_types = [\"B\", \"C\", \"M\", \"P\", \"D\", \"E\", \"S\"]\n",
    "loss_avgs = {k: MovingAverage(100) for k in loss_types}\n",
    "print(\"Begin training!\")"
   ]
  },
  {
   "cell_type": "code",
   "execution_count": 31,
   "metadata": {},
   "outputs": [
    {
     "name": "stdout",
     "output_type": "stream",
     "text": [
      "[  0]       0 || B: 9553.233 | C: 4.514 | M: 0.000 | S: 0.524 | T: 9558.272 || ETA: 0:00:00 || timer: 124.124\n"
     ]
    }
   ],
   "source": [
    "# try-except so you can use ctrl+c to save early and stop training\n",
    "step_index = 0\n",
    "iteration = 0\n",
    "last_time = time.time()\n",
    "epoch_size = len(train_dataset) // cfg.batch_size\n",
    "num_epochs = math.ceil(cfg.max_iter / epoch_size)\n",
    "\n",
    "for epoch in range(num_epochs):\n",
    "    for datum in data_loader:\n",
    "        # Stop if we've reached an epoch if we're resuming from start_iter\n",
    "        if iteration == (epoch + 1) * epoch_size:\n",
    "            break\n",
    "\n",
    "        # Stop at the configured number of iterations even if mid-epoch\n",
    "        if iteration == cfg.max_iter:\n",
    "            break\n",
    "\n",
    "        # Change a config setting if we've reached the specified iteration\n",
    "        changed = False\n",
    "        for change in cfg.delayed_settings:\n",
    "            if iteration >= change[0]:\n",
    "                changed = True\n",
    "                cfg.replace(change[1])\n",
    "\n",
    "                # Reset the loss averages because things might have changed\n",
    "                for avg in loss_avgs:\n",
    "                    avg.reset()\n",
    "\n",
    "        # If a config setting was changed, remove it from the list so we don't keep checking\n",
    "        if changed:\n",
    "            cfg.delayed_settings = [\n",
    "                x for x in cfg.delayed_settings if x[0] > iteration]\n",
    "\n",
    "        # Warm up by linearly interpolating the learning rate from some smaller value\n",
    "        if cfg.lr_warmup_until > 0 and iteration <= cfg.lr_warmup_until:\n",
    "            set_lr(optimizer, (cfg.lr - cfg.lr_warmup_init) *\n",
    "                   (iteration / cfg.lr_warmup_until) + cfg.lr_warmup_init)\n",
    "\n",
    "        # Adjust the learning rate at the given iterations, but also if we resume from past that iteration\n",
    "        while step_index < len(cfg.lr_steps) and iteration >= cfg.lr_steps[step_index]:\n",
    "            step_index += 1\n",
    "            set_lr(optimizer, args.lr * (args.gamma ** step_index))\n",
    "\n",
    "        # Load training data\n",
    "        # Note, for training on multiple gpus this will use the custom replicate and gather I wrote up there\n",
    "        images, targets, masks, num_crowds = prepare_data(datum)\n",
    "\n",
    "        # Forward Pass\n",
    "        out = net(images)\n",
    "\n",
    "        # Compute Loss\n",
    "        optimizer.zero_grad()\n",
    "\n",
    "        wrapper = ScatterWrapper(targets, masks, num_crowds)\n",
    "        losses = criterion(out, wrapper, wrapper.make_mask())\n",
    "\n",
    "        # Mean here because Dataparallel\n",
    "        losses = {k: v.mean() for k, v in losses.items()}\n",
    "        loss = sum([losses[k] for k in losses])\n",
    "\n",
    "        # Backprop\n",
    "        loss.backward()  # Do this to free up vram even if loss is not finite\n",
    "        if torch.isfinite(loss).item():\n",
    "            optimizer.step()\n",
    "\n",
    "        # Add the loss to the moving average for bookkeeping\n",
    "        for k in losses:\n",
    "            loss_avgs[k].add(losses[k].item())\n",
    "\n",
    "        cur_time = time.time()\n",
    "        elapsed = cur_time - last_time\n",
    "        last_time = cur_time\n",
    "\n",
    "        # Exclude graph setup from the timing information\n",
    "        if 0 < iteration:\n",
    "            time_avg.add(elapsed)\n",
    "\n",
    "        if iteration % 10 == 0:\n",
    "            eta_str = str(datetime.timedelta(\n",
    "                seconds=(cfg.max_iter-iteration) * time_avg.get_avg())).split('.')[0]\n",
    "\n",
    "            total = sum([loss_avgs[k].get_avg() for k in losses])\n",
    "            loss_labels = sum([[k, loss_avgs[k].get_avg()]\n",
    "                               for k in loss_types if k in losses], [])\n",
    "\n",
    "            print(('[%3d] %7d ||' + (' %s: %.3f |' * len(losses)) + ' T: %.3f || ETA: %s || timer: %.3f')\n",
    "                  % tuple([epoch, iteration] + loss_labels + [total, eta_str, elapsed]), flush=True)\n",
    "\n",
    "        iteration += 1\n",
    "\n",
    "        if iteration % cfg.save_interval == 0 and 0 < iteration:\n",
    "            print('Saving state, iter:', iteration)\n",
    "            net.save_weights(save_path(epoch, iteration))\n",
    "\n",
    "            #if cfg.keep_latest:\n",
    "            #    for p in SavePath.get_olds(cfg.save_folder, cfg.name):\n",
    "            #        print('Deleting old save...')\n",
    "            #        os.remove(str(p))\n",
    "            \n",
    "        break\n",
    "    break\n",
    "\n",
    "net.save_weights(save_path(epoch, iteration))"
   ]
  }
 ],
 "metadata": {
  "jupytext": {
   "formats": "ipynb,py:hydrogen"
  },
  "kernelspec": {
   "display_name": "Python 3",
   "language": "python",
   "name": "python3"
  },
  "language_info": {
   "codemirror_mode": {
    "name": "ipython",
    "version": 3
   },
   "file_extension": ".py",
   "mimetype": "text/x-python",
   "name": "python",
   "nbconvert_exporter": "python",
   "pygments_lexer": "ipython3",
   "version": "3.6.8"
  }
 },
 "nbformat": 4,
 "nbformat_minor": 2
}
